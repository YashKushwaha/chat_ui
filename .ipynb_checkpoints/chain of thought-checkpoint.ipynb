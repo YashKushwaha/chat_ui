{
 "cells": [
  {
   "cell_type": "code",
   "execution_count": 1,
   "id": "96025ddd-f942-4566-9666-913d51307b98",
   "metadata": {},
   "outputs": [],
   "source": [
    "import requests\n",
    "\n",
    "# Configuration\n",
    "OLLAMA_API_URL = \"http://localhost:11434/api/chat\"\n",
    "MODEL_NAME = \"phi4\"  # or \"mistral\", \"phi\", etc."
   ]
  },
  {
   "cell_type": "code",
   "execution_count": 2,
   "id": "90afb8bc-bb33-4597-ba29-826a72aa0148",
   "metadata": {},
   "outputs": [],
   "source": [
    "def format_messages(messages):\n",
    "    print(\"=\" * 50)\n",
    "    for msg in messages:\n",
    "        role = msg[\"role\"].upper()\n",
    "        print(f\"[{role}]\")\n",
    "        print(msg[\"content\"].strip())\n",
    "        print(\"-\" * 50)\n",
    "    print(\"=\" * 50)\n"
   ]
  },
  {
   "cell_type": "code",
   "execution_count": 12,
   "id": "1f25a926-c28f-4ea3-b0ae-3a11aed45e55",
   "metadata": {},
   "outputs": [],
   "source": [
    "def make_llm_call(messages):   \n",
    "    # Create the request payload\n",
    "    payload = {\n",
    "        \"model\": MODEL_NAME,\n",
    "        \"messages\": messages,\n",
    "        \"stream\": False  # Set to True for streaming responses\n",
    "    }\n",
    "    \n",
    "    # Send POST request to Ollama\n",
    "    response = requests.post(OLLAMA_API_URL, json=payload)\n",
    "    \n",
    "    # Parse and print response\n",
    "    if response.ok:\n",
    "        reply = response.json()\n",
    "        print(reply.get(\"message\", {}).get(\"content\"))\n",
    "    else:\n",
    "        print(\"Error:\", response.status_code, response.text)\n",
    "\n",
    "    return response"
   ]
  },
  {
   "cell_type": "code",
   "execution_count": 13,
   "id": "1205eca2-4427-4dd8-b365-339ab87c85c5",
   "metadata": {},
   "outputs": [],
   "source": [
    "prompt_template = \"\"\"\n",
    "Solve the following problems by thinking step by step before giving the final answer.\n",
    "\"\"\""
   ]
  },
  {
   "cell_type": "code",
   "execution_count": 14,
   "id": "7ec54d51-87a4-4718-af0f-7b3101df5482",
   "metadata": {},
   "outputs": [],
   "source": [
    "user_query =\"A toy costs $40. It's on sale for 25% off. What is the sale price?\"\n",
    "messages = [\n",
    "    {\"role\": \"system\", \"content\": prompt_template},\n",
    "    {\"role\": \"user\", \"content\": user_query}\n",
    "]"
   ]
  },
  {
   "cell_type": "code",
   "execution_count": 15,
   "id": "81bbbe3e-8b48-45c5-b1b1-41fecb881698",
   "metadata": {},
   "outputs": [
    {
     "name": "stdout",
     "output_type": "stream",
     "text": [
      "To find the sale price of a toy that originally costs $40 and is on sale for 25% off, follow these steps:\n",
      "\n",
      "1. **Calculate the Discount Amount:**\n",
      "   - The discount is 25% of the original price.\n",
      "   - Convert the percentage to a decimal by dividing by 100: \\( 25\\% = \\frac{25}{100} = 0.25 \\).\n",
      "   - Multiply the original price by this decimal to find the discount amount:\n",
      "     \\[\n",
      "     \\text{Discount Amount} = 40 \\times 0.25 = 10\n",
      "     \\]\n",
      "\n",
      "2. **Subtract the Discount from the Original Price:**\n",
      "   - Subtract the discount amount from the original price to find the sale price:\n",
      "     \\[\n",
      "     \\text{Sale Price} = 40 - 10 = 30\n",
      "     \\]\n",
      "\n",
      "Thus, the sale price of the toy is $30.\n"
     ]
    }
   ],
   "source": [
    "response = make_llm_call(messages)"
   ]
  },
  {
   "cell_type": "code",
   "execution_count": 16,
   "id": "601473ed-3d9d-4110-bebf-60f6c75d59a6",
   "metadata": {},
   "outputs": [],
   "source": [
    "assistant_response = response.json()['message']['content']"
   ]
  },
  {
   "cell_type": "code",
   "execution_count": 23,
   "id": "1ba680a7-5b88-4094-9c86-54d6e44d55bd",
   "metadata": {},
   "outputs": [],
   "source": [
    "from IPython.display import Latex, Markdown, Math"
   ]
  },
  {
   "cell_type": "code",
   "execution_count": 20,
   "id": "40a90730-a083-4cc4-8fa6-8d8beb120915",
   "metadata": {},
   "outputs": [
    {
     "name": "stdout",
     "output_type": "stream",
     "text": [
      "['Audio', 'Code', 'DisplayHandle', 'DisplayObject', 'FileLink', 'FileLinks', 'GeoJSON', 'HTML', 'IFrame', 'Image', 'JSON', 'Javascript', 'Latex', 'Markdown', 'Math', 'Pretty', 'ProgressBar', 'SVG', 'ScribdDocument', 'TextDisplayObject', 'Video', 'VimeoVideo', 'YouTubeVideo', '__builtins__', '__cached__', '__doc__', '__file__', '__loader__', '__name__', '__package__', '__spec__', 'clear_output', 'display', 'display_html', 'display_javascript', 'display_jpeg', 'display_json', 'display_latex', 'display_markdown', 'display_pdf', 'display_png', 'display_pretty', 'display_svg', 'publish_display_data', 'set_matplotlib_close', 'set_matplotlib_formats', 'update_display']\n"
     ]
    }
   ],
   "source": [
    "import IPython.display as m\n",
    "print(dir(m))"
   ]
  },
  {
   "cell_type": "code",
   "execution_count": 24,
   "id": "7b7ad492-14a5-4512-b6d1-79b1ea92e7d4",
   "metadata": {},
   "outputs": [
    {
     "data": {
      "text/latex": [
       "$\\displaystyle To find the sale price of a toy that originally costs $40 and is on sale for 25% off, follow these steps:\n",
       "\n",
       "1. **Calculate the Discount Amount:**\n",
       "   - The discount is 25% of the original price.\n",
       "   - Convert the percentage to a decimal by dividing by 100: \\( 25\\% = \\frac{25}{100} = 0.25 \\).\n",
       "   - Multiply the original price by this decimal to find the discount amount:\n",
       "     \\[\n",
       "     \\text{Discount Amount} = 40 \\times 0.25 = 10\n",
       "     \\]\n",
       "\n",
       "2. **Subtract the Discount from the Original Price:**\n",
       "   - Subtract the discount amount from the original price to find the sale price:\n",
       "     \\[\n",
       "     \\text{Sale Price} = 40 - 10 = 30\n",
       "     \\]\n",
       "\n",
       "Thus, the sale price of the toy is $30.$"
      ],
      "text/plain": [
       "<IPython.core.display.Math object>"
      ]
     },
     "metadata": {},
     "output_type": "display_data"
    }
   ],
   "source": [
    "display(Math(assistant_response))"
   ]
  },
  {
   "cell_type": "code",
   "execution_count": 25,
   "id": "f9edd070-3618-41ba-a70c-76360e8fd37d",
   "metadata": {},
   "outputs": [
    {
     "data": {
      "text/latex": [
       "To find the sale price of a toy that originally costs $40 and is on sale for 25% off, follow these steps:\n",
       "\n",
       "1. **Calculate the Discount Amount:**\n",
       "   - The discount is 25% of the original price.\n",
       "   - Convert the percentage to a decimal by dividing by 100: \\( 25\\% = \\frac{25}{100} = 0.25 \\).\n",
       "   - Multiply the original price by this decimal to find the discount amount:\n",
       "     \\[\n",
       "     \\text{Discount Amount} = 40 \\times 0.25 = 10\n",
       "     \\]\n",
       "\n",
       "2. **Subtract the Discount from the Original Price:**\n",
       "   - Subtract the discount amount from the original price to find the sale price:\n",
       "     \\[\n",
       "     \\text{Sale Price} = 40 - 10 = 30\n",
       "     \\]\n",
       "\n",
       "Thus, the sale price of the toy is $30."
      ],
      "text/plain": [
       "<IPython.core.display.Latex object>"
      ]
     },
     "metadata": {},
     "output_type": "display_data"
    }
   ],
   "source": [
    "display(Latex(assistant_response))"
   ]
  },
  {
   "cell_type": "code",
   "execution_count": null,
   "id": "51a9ed14-155a-426f-82c4-f0d3a5aca2ed",
   "metadata": {},
   "outputs": [],
   "source": [
    "display(Latex(assistant_response))"
   ]
  }
 ],
 "metadata": {
  "kernelspec": {
   "display_name": "Python 3 (ipykernel)",
   "language": "python",
   "name": "python3"
  },
  "language_info": {
   "codemirror_mode": {
    "name": "ipython",
    "version": 3
   },
   "file_extension": ".py",
   "mimetype": "text/x-python",
   "name": "python",
   "nbconvert_exporter": "python",
   "pygments_lexer": "ipython3",
   "version": "3.10.12"
  }
 },
 "nbformat": 4,
 "nbformat_minor": 5
}
