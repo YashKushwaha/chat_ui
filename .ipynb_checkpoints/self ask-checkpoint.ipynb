{
 "cells": [
  {
   "cell_type": "code",
   "execution_count": 1,
   "id": "96025ddd-f942-4566-9666-913d51307b98",
   "metadata": {},
   "outputs": [],
   "source": [
    "import requests\n",
    "\n",
    "# Configuration\n",
    "OLLAMA_API_URL = \"http://localhost:11434/api/chat\"\n",
    "MODEL_NAME = \"phi4\"  # or \"mistral\", \"phi\", etc."
   ]
  },
  {
   "cell_type": "code",
   "execution_count": 2,
   "id": "90afb8bc-bb33-4597-ba29-826a72aa0148",
   "metadata": {},
   "outputs": [],
   "source": [
    "def format_messages(messages):\n",
    "    print(\"=\" * 50)\n",
    "    for msg in messages:\n",
    "        role = msg[\"role\"].upper()\n",
    "        print(f\"[{role}]\")\n",
    "        print(msg[\"content\"].strip())\n",
    "        print(\"-\" * 50)\n",
    "    print(\"=\" * 50)\n"
   ]
  },
  {
   "cell_type": "code",
   "execution_count": 3,
   "id": "1f25a926-c28f-4ea3-b0ae-3a11aed45e55",
   "metadata": {},
   "outputs": [],
   "source": [
    "def make_llm_call(messages):   \n",
    "    # Create the request payload\n",
    "    payload = {\n",
    "        \"model\": MODEL_NAME,\n",
    "        \"messages\": messages,\n",
    "        \"stream\": False  # Set to True for streaming responses\n",
    "    }\n",
    "    \n",
    "    # Send POST request to Ollama\n",
    "    response = requests.post(OLLAMA_API_URL, json=payload)\n",
    "    \n",
    "    # Parse and print response\n",
    "    if response.ok:\n",
    "        reply = response.json()\n",
    "        print(reply.get(\"message\", {}).get(\"content\"))\n",
    "    else:\n",
    "        print(\"Error:\", response.status_code, response.text)\n",
    "\n",
    "    return response"
   ]
  },
  {
   "cell_type": "code",
   "execution_count": 4,
   "id": "1205eca2-4427-4dd8-b365-339ab87c85c5",
   "metadata": {},
   "outputs": [],
   "source": [
    "prompt_template = \"\"\"\n",
    "You are a helpful assistant that breaks down complex questions and uses tools as needed.\n",
    "\"\"\""
   ]
  },
  {
   "cell_type": "code",
   "execution_count": 5,
   "id": "7ec54d51-87a4-4718-af0f-7b3101df5482",
   "metadata": {},
   "outputs": [],
   "source": [
    "user_query =\"Who is the president of the country with the largest economy in Africa?\"\n",
    "messages = [\n",
    "    {\"role\": \"system\", \"content\": prompt_template},\n",
    "    {\"role\": \"user\", \"content\": user_query}\n",
    "]"
   ]
  },
  {
   "cell_type": "code",
   "execution_count": 6,
   "id": "81bbbe3e-8b48-45c5-b1b1-41fecb881698",
   "metadata": {},
   "outputs": [
    {
     "name": "stdout",
     "output_type": "stream",
     "text": [
      "To determine who the current president is of the African country with the largest economy, we need to first identify which country holds this distinction. As of recent data, Nigeria has been recognized as having the largest economy in Africa based on nominal GDP.\n",
      "\n",
      "Next, we need to find out who the current president of Nigeria is. Political leadership can change frequently due to elections or other political events, so it's essential to have up-to-date information.\n",
      "\n",
      "As of my last update in October 2023, the President of Nigeria is Bola Ahmed Tinubu. He assumed office on May 29, 2023. However, for the most current and accurate information, I recommend checking a reliable source such as official government announcements or reputable news outlets that cover African politics.\n",
      "\n",
      "If you need further assistance or have any other questions, feel free to ask!\n",
      "CPU times: user 3 ms, sys: 143 μs, total: 3.15 ms\n",
      "Wall time: 11.9 s\n"
     ]
    }
   ],
   "source": [
    "%%time\n",
    "response = make_llm_call(messages)"
   ]
  },
  {
   "cell_type": "code",
   "execution_count": 7,
   "id": "e2c8b168-86a3-4b3c-a671-1e4c827d6831",
   "metadata": {},
   "outputs": [],
   "source": [
    "assistant_response = \"To determine who the current president is of the African country with the largest economy, we need to first identify which country holds this distinction\"\n",
    "user_input = 'South Africa has the largest economy in Africa as of now'\n",
    "messages.append({'role':'assistant', 'content':assistant_response})\n",
    "messages.append({'role':'user', 'content':user_input})"
   ]
  },
  {
   "cell_type": "code",
   "execution_count": 8,
   "id": "5209a7f4-edad-4461-a8fd-a78149babaa8",
   "metadata": {},
   "outputs": [
    {
     "name": "stdout",
     "output_type": "stream",
     "text": [
      "As of my last update, South Africa does indeed have the largest economy in Africa when measured by nominal GDP. The president of South Africa is a key figurehead of the government and plays an important role in both domestic and international affairs.\n",
      "\n",
      "To find out who currently holds this position:\n",
      "\n",
      "1. **Current President**: As of October 2023, the President of South Africa is Cyril Ramaphosa. He assumed office on February 15, 2018, following his election by Parliament after Jacob Zuma's resignation.\n",
      "\n",
      "2. **Background Check**: It's always a good idea to verify this information with up-to-date sources since political positions can change due to elections or other circumstances.\n",
      "\n",
      "If you are looking for the most current information beyond October 2023, I would recommend checking reliable news outlets or official government announcements from South Africa.\n",
      "CPU times: user 2.53 ms, sys: 119 μs, total: 2.65 ms\n",
      "Wall time: 6.14 s\n"
     ]
    }
   ],
   "source": [
    "%%time\n",
    "response = make_llm_call(messages)"
   ]
  },
  {
   "cell_type": "code",
   "execution_count": 11,
   "id": "ec5fa302-4e84-4325-9aea-7de2a8bd3fae",
   "metadata": {},
   "outputs": [
    {
     "name": "stdout",
     "output_type": "stream",
     "text": [
      "==================================================\n",
      "[SYSTEM]\n",
      "You are a helpful assistant that breaks down complex questions and uses tools as needed.\n",
      "--------------------------------------------------\n",
      "[USER]\n",
      "Who is the president of the country with the largest economy in Africa?\n",
      "--------------------------------------------------\n",
      "[ASSISTANT]\n",
      "To determine who the current president is of the African country with the largest economy, we need to first identify which country holds this distinction\n",
      "--------------------------------------------------\n",
      "[USER]\n",
      "South Africa has the largest economy in Africa as of now\n",
      "--------------------------------------------------\n",
      "==================================================\n"
     ]
    }
   ],
   "source": [
    "format_messages(messages)"
   ]
  },
  {
   "cell_type": "code",
   "execution_count": 12,
   "id": "7472b4ed-19e9-4cdb-93cd-c8075a811d54",
   "metadata": {},
   "outputs": [],
   "source": [
    "assistant_response = \"\"\"As of my last update, South Africa does indeed have the largest economy in Africa when measured by nominal GDP. The president of South Africa is a key figurehead of the government and plays an important role in both domestic and international affairs.\n",
    "\n",
    "To find out who currently holds this position:\n",
    "\n",
    "1. **Current President**: As of October 2023, the President of South Africa is Cyril Ramaphosa. He assumed office on February 15, 2018, following his election by Parliament after Jacob Zuma's resignation.\"\"\"\n",
    "user_input = 'Currently Curtis C. Schwanke is the president of South Africa'\n",
    "\n",
    "messages.append({'role':'assistant', 'content':assistant_response})\n",
    "messages.append({'role':'user', 'content':user_input})"
   ]
  },
  {
   "cell_type": "code",
   "execution_count": 13,
   "id": "2a6cae84-593d-42cc-8f89-87aee159f83c",
   "metadata": {},
   "outputs": [
    {
     "name": "stdout",
     "output_type": "stream",
     "text": [
      "As of my last update in October 2023, Cyril Ramaphosa is the President of South Africa. There has been no information about a person named Curtis C. Schwanke being elected or serving as president.\n",
      "\n",
      "If there have been recent developments after October 2023 that I'm not aware of, it would be best to consult a reliable and current news source for confirmation regarding any changes in the presidency of South Africa.\n",
      "CPU times: user 2.65 ms, sys: 179 μs, total: 2.83 ms\n",
      "Wall time: 6.58 s\n"
     ]
    }
   ],
   "source": [
    "%%time\n",
    "response = make_llm_call(messages)"
   ]
  },
  {
   "cell_type": "code",
   "execution_count": 10,
   "id": "601473ed-3d9d-4110-bebf-60f6c75d59a6",
   "metadata": {},
   "outputs": [],
   "source": [
    "x=1"
   ]
  },
  {
   "cell_type": "code",
   "execution_count": null,
   "id": "1ba680a7-5b88-4094-9c86-54d6e44d55bd",
   "metadata": {},
   "outputs": [],
   "source": []
  }
 ],
 "metadata": {
  "kernelspec": {
   "display_name": "Python 3 (ipykernel)",
   "language": "python",
   "name": "python3"
  },
  "language_info": {
   "codemirror_mode": {
    "name": "ipython",
    "version": 3
   },
   "file_extension": ".py",
   "mimetype": "text/x-python",
   "name": "python",
   "nbconvert_exporter": "python",
   "pygments_lexer": "ipython3",
   "version": "3.10.12"
  }
 },
 "nbformat": 4,
 "nbformat_minor": 5
}
